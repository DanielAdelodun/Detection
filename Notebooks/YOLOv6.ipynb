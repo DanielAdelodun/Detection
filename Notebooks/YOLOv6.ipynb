{
 "cells": [
  {
   "cell_type": "code",
   "execution_count": null,
   "metadata": {},
   "outputs": [],
   "source": [
    "import sys\n",
    "import os\n",
    "import subprocess\n",
    "import shlex\n",
    "import threading\n",
    "import numpy as np\n",
    "\n",
    "import cv2"
   ]
  },
  {
   "cell_type": "code",
   "execution_count": null,
   "metadata": {},
   "outputs": [],
   "source": [
    "# Constants.\n",
    "INPUT_WIDTH = 640               # Inference input width\n",
    "INPUT_HEIGHT = 640              # Inference input height\n",
    "ORIGINAL_WIDTH = 1280           # Original image width\n",
    "ORIGINAL_HEIGHT = 1280          # Original image height\n",
    "SCORE_THRESHOLD = 0.5\t\t\t# cls score\n",
    "NMS_THRESHOLD = 0.45\n",
    "CONFIDENCE_THRESHOLD = 0.45\t\t# obj confidence\n",
    "\n",
    "# Text parameters.\n",
    "FONT_FACE = cv2.FONT_HERSHEY_SIMPLEX\n",
    "FONT_SCALE = 0.7\n",
    "THICKNESS = 1"
   ]
  },
  {
   "cell_type": "code",
   "execution_count": null,
   "metadata": {},
   "outputs": [],
   "source": [
    "classes = None\n",
    "with open(\"coco.names\", 'rt') as f:\n",
    "    classes = f.read().rstrip('\\n').split('\\n')\n",
    "\n",
    "BLACK  = (0,0,0)\n",
    "BLUE   = (255,178,50)\n",
    "YELLOW = (0,255,255)\n",
    "RED = (0,0,255)\n",
    "WHITE = (255,255,255)\n",
    "\n",
    "ClassColors = np.random.randint(0, 255, size=(len(classes), 3), dtype=np.uint8)"
   ]
  },
  {
   "cell_type": "code",
   "execution_count": null,
   "metadata": {},
   "outputs": [],
   "source": [
    "def draw_label(input_image, label, left, top):\n",
    "    \"\"\"Draw text onto image at location.\"\"\"\n",
    "\n",
    "    # Get text size.\n",
    "    text_size = cv2.getTextSize(label, FONT_FACE, FONT_SCALE, THICKNESS)\n",
    "    dim, baseline = text_size[0], text_size[1]\n",
    "    # Use text size to create a BLACK rectangle.\n",
    "    cv2.rectangle(input_image, (left, top), (left + dim[0], top + dim[1] + baseline), BLACK, cv2.FILLED)\n",
    "    # Display text inside the rectangle.\n",
    "    cv2.putText(input_image, label, (left, top + dim[1]), FONT_FACE, FONT_SCALE, YELLOW, THICKNESS, cv2.LINE_AA)\n"
   ]
  },
  {
   "cell_type": "code",
   "execution_count": null,
   "metadata": {},
   "outputs": [],
   "source": [
    "def pre_process(input_image, net):\n",
    "\t# Run inference.\n",
    "\n",
    "\t# Create a 4D blob from a frame.\n",
    "\tblob = cv2.dnn.blobFromImage(input_image, 1/255, (INPUT_WIDTH, INPUT_HEIGHT), [0,0,0], 1, crop=False)\n",
    "\n",
    "\t# Sets the input to the network.\n",
    "\tnet.setInput(blob)\n",
    "\n",
    "\t# Runs the forward pass to get output of the output layers.\n",
    "\toutput_layers = net.getUnconnectedOutLayersNames()\n",
    "\toutputs = net.forward(output_layers)\n",
    "\n",
    "\treturn outputs"
   ]
  },
  {
   "cell_type": "code",
   "execution_count": null,
   "metadata": {},
   "outputs": [],
   "source": [
    "def post_process(input_image, outputs):\n",
    "\t# Draw bounding boxes.\n",
    "\n",
    "\t# Lists to hold respective values while unwrapping.\n",
    "\tclass_ids = []\n",
    "\tconfidences = []\n",
    "\tcls_confidences = []\n",
    "\tboxes = []\n",
    "\n",
    "\t# Resizing factor.\n",
    "\tx_factor = ORIGINAL_WIDTH / INPUT_WIDTH\n",
    "\ty_factor =  ORIGINAL_HEIGHT / INPUT_HEIGHT\n",
    "\n",
    "\t# Iterate through 8400 detections.\n",
    "\tfor row in outputs[0][0]:\n",
    "\n",
    "\t\tconfidence = row[4]\n",
    "\n",
    "\t\t# Discard bad detections and continue. (Why all 1?)\n",
    "\t\tif confidence >= CONFIDENCE_THRESHOLD:\n",
    "\t\t\tclasses_scores = row[5:]\n",
    "\n",
    "\t\t\t# Get the index of max class score.\n",
    "\t\t\tclass_id = np.argmax(classes_scores)\n",
    "\n",
    "\t\t\t#  Continue if the class score is above threshold.\n",
    "\t\t\tif (classes_scores[class_id] > SCORE_THRESHOLD):\n",
    "\t\t\t\tconfidences.append(confidence)\n",
    "\t\t\t\tclass_ids.append(class_id)\n",
    "\t\t\t\tcls_confidences.append(classes_scores[class_id])\n",
    "\n",
    "\n",
    "\t\t\t\tcx, cy, w, h = row[0], row[1], row[2], row[3]\n",
    "\n",
    "\t\t\t\tleft = int((cx - w/2) * x_factor)\n",
    "\t\t\t\ttop = int((cy - h/2) * y_factor)\n",
    "\t\t\t\twidth = int(w * x_factor)\n",
    "\t\t\t\theight = int(h * y_factor)\n",
    "\n",
    "\t\t\t\tbox = np.array([left, top, width, height])\n",
    "\t\t\t\tboxes.append(box)\n",
    "\n",
    "\t# Perform non maximum suppression to eliminate redundant overlapping boxes with\n",
    "\t# lower confidences.\n",
    "\tindices = cv2.dnn.NMSBoxes(boxes, confidences, CONFIDENCE_THRESHOLD, NMS_THRESHOLD)\n",
    "\n",
    "\t# Draw boxes and labels.\n",
    "\tfor i in indices:\n",
    "\t\tbox = boxes[i]\n",
    "\t\tleft = box[0]\n",
    "\t\ttop = box[1]\n",
    "\t\twidth = box[2]\n",
    "\t\theight = box[3]\n",
    "\t\tcv2.rectangle(input_image, (left, top), (left + width, top + height), BLUE, 3*THICKNESS)\n",
    "\t\tlabel = \"{}:{:.2f}:{:.2f}\".format(classes[class_ids[i]], confidences[i], cls_confidences[i])\n",
    "\t\tdraw_label(input_image, label, left, top)\n",
    "\n",
    "\t # return input_image, [boxes[i] for i in indices], [class_ids[i] for i in indices], [confidences[i] for i in indices]\n",
    "\treturn input_image, boxes, class_ids, confidences, cls_confidences"
   ]
  },
  {
   "cell_type": "code",
   "execution_count": null,
   "metadata": {},
   "outputs": [],
   "source": [
    "modelFile = '/home/daniel/Projects/Drone/LocalDetection/detr.onnx'\n",
    "net = cv2.dnn.readNet(modelFile)"
   ]
  },
  {
   "cell_type": "code",
   "execution_count": null,
   "metadata": {},
   "outputs": [],
   "source": [
    "modelFile = '/home/daniel/Public/YOLOv6/deploy/models/yolov6l.onnx'\n",
    "net = cv2.dnn.readNet(modelFile)"
   ]
  },
  {
   "cell_type": "code",
   "execution_count": null,
   "metadata": {},
   "outputs": [],
   "source": [
    "net.setPreferableBackend(cv2.dnn.DNN_BACKEND_CUDA)\n",
    "net.setPreferableTarget(cv2.dnn.DNN_TARGET_CUDA)"
   ]
  },
  {
   "cell_type": "code",
   "execution_count": null,
   "metadata": {},
   "outputs": [],
   "source": [
    "recGabriel = \"ffmpeg -nostdin -probesize 32 -flags low_delay -fflags nobuffer -codec:v h264_cuvid -r 25 -i tcp://gabriel.local:5001 -pix_fmt rgb24 -an -vcodec rawvideo -f rawvideo pipe: 2>/dev/null\"\n",
    "recGabriel = shlex.split(recGabriel)\n",
    "\n",
    "class CameraBufferCleanerThread(threading.Thread):\n",
    "    def __init__(self, camera_process, name='camera-buffer-cleaner-thread'):\n",
    "        self.camera = camera_process\n",
    "        self.last_frame = None\n",
    "        super(CameraBufferCleanerThread, self).__init__(name=name)\n",
    "        self.start()\n",
    "\n",
    "    def run(self):\n",
    "        while True:\n",
    "            raw_frame = self.camera.stdout.read(ORIGINAL_WIDTH*ORIGINAL_HEIGHT*3)\n",
    "\n",
    "            if len(raw_frame) != (ORIGINAL_WIDTH*ORIGINAL_HEIGHT*3):\n",
    "                print('Error reading frame!!!')\n",
    "                break\n",
    "\n",
    "            else:\n",
    "                # Transform the byte read into a numpy array, and reshape it to video frame dimensions\n",
    "                frame = np.frombuffer(raw_frame, np.uint8)\n",
    "                self.last_frame = frame.reshape((ORIGINAL_HEIGHT, ORIGINAL_WIDTH, 3))"
   ]
  },
  {
   "cell_type": "code",
   "execution_count": null,
   "metadata": {},
   "outputs": [],
   "source": [
    "process = subprocess.Popen(recGabriel, stdout=subprocess.PIPE)\n",
    "CameraCleaner = CameraBufferCleanerThread(process)"
   ]
  },
  {
   "cell_type": "code",
   "execution_count": null,
   "metadata": {},
   "outputs": [],
   "source": [
    "while True:\n",
    "\n",
    "    # Flush the stdout to avoid buffering problems\n",
    "    frame = CameraCleaner.last_frame\n",
    "\n",
    "    detections = pre_process(frame.copy(), net)\n",
    "    img, boxes, cls_ids, confidences, cls_confidences = post_process(cv2.cvtColor(frame, cv2.COLOR_RGB2BGR), detections)\n",
    "\n",
    "    cv2.imshow('frame', img)\n",
    "\n",
    "    # Press Q on keyboard to  exit\n",
    "    if cv2.waitKey(1) & 0xFF == ord('q'):\n",
    "        cv2.destroyAllWindows()\n",
    "        break"
   ]
  },
  {
   "cell_type": "code",
   "execution_count": null,
   "metadata": {},
   "outputs": [],
   "source": [
    "process.terminate()"
   ]
  },
  {
   "cell_type": "code",
   "execution_count": null,
   "metadata": {},
   "outputs": [],
   "source": []
  }
 ],
 "metadata": {
  "kernelspec": {
   "display_name": "Python 3",
   "language": "python",
   "name": "python3"
  },
  "language_info": {
   "codemirror_mode": {
    "name": "ipython",
    "version": 3
   },
   "file_extension": ".py",
   "mimetype": "text/x-python",
   "name": "python",
   "nbconvert_exporter": "python",
   "pygments_lexer": "ipython3",
   "version": "3.10.12"
  },
  "orig_nbformat": 4
 },
 "nbformat": 4,
 "nbformat_minor": 2
}
